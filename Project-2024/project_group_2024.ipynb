{
 "cells": [
  {
   "cell_type": "code",
   "execution_count": 15,
   "metadata": {},
   "outputs": [],
   "source": [
    "import pandas as pd\n",
    "import matplotlib.pyplot as plt\n",
    "import numpy as np\n",
    "import seaborn as sb"
   ]
  },
  {
   "cell_type": "code",
   "execution_count": 16,
   "metadata": {},
   "outputs": [],
   "source": [
    "df = pd.read_excel('https://raw.githubusercontent.com/hiephamk/Data_Group_Project/main/WorkPlaceSatisfactionSurveyData.xlsx')"
   ]
  },
  {
   "cell_type": "markdown",
   "metadata": {},
   "source": [
    "# 5. Analyzing Two Variables (Two Categorical Variables)\n",
    "* Crosstab to explore relationships between two variables.\n",
    "  - Example: pd.crosstab(df['education'], df['gender'], normalize='columns') * 100\n",
    "  - Visualize with bar charts if necessary.\n",
    "* Carefully review the results—only make cautious, observational statements.\n",
    "* Perform a Chi-Square test & Review the results for 'field name 1' & 'field name 2' dependency**"
   ]
  },
  {
   "cell_type": "markdown",
   "metadata": {},
   "source": []
  },
  {
   "cell_type": "code",
   "execution_count": 17,
   "metadata": {},
   "outputs": [],
   "source": [
    "df['gender']=df['gender'].replace({1:'woman',2:'man'})\n",
    "df['education']=df['education'].replace({1:'primary school',2:'secondary school graduate',3:'bachelor level', 4:'master level'})"
   ]
  },
  {
   "cell_type": "code",
   "execution_count": 18,
   "metadata": {},
   "outputs": [
    {
     "data": {
      "text/html": [
       "<div>\n",
       "<style scoped>\n",
       "    .dataframe tbody tr th:only-of-type {\n",
       "        vertical-align: middle;\n",
       "    }\n",
       "\n",
       "    .dataframe tbody tr th {\n",
       "        vertical-align: top;\n",
       "    }\n",
       "\n",
       "    .dataframe thead th {\n",
       "        text-align: right;\n",
       "    }\n",
       "</style>\n",
       "<table border=\"1\" class=\"dataframe\">\n",
       "  <thead>\n",
       "    <tr style=\"text-align: right;\">\n",
       "      <th></th>\n",
       "      <th>gender</th>\n",
       "      <th>education</th>\n",
       "    </tr>\n",
       "  </thead>\n",
       "  <tbody>\n",
       "    <tr>\n",
       "      <th>0</th>\n",
       "      <td>woman</td>\n",
       "      <td>primary school</td>\n",
       "    </tr>\n",
       "    <tr>\n",
       "      <th>1</th>\n",
       "      <td>woman</td>\n",
       "      <td>secondary school graduate</td>\n",
       "    </tr>\n",
       "    <tr>\n",
       "      <th>2</th>\n",
       "      <td>woman</td>\n",
       "      <td>primary school</td>\n",
       "    </tr>\n",
       "    <tr>\n",
       "      <th>3</th>\n",
       "      <td>woman</td>\n",
       "      <td>primary school</td>\n",
       "    </tr>\n",
       "    <tr>\n",
       "      <th>4</th>\n",
       "      <td>woman</td>\n",
       "      <td>secondary school graduate</td>\n",
       "    </tr>\n",
       "  </tbody>\n",
       "</table>\n",
       "</div>"
      ],
      "text/plain": [
       "  gender                  education\n",
       "0  woman             primary school\n",
       "1  woman  secondary school graduate\n",
       "2  woman             primary school\n",
       "3  woman             primary school\n",
       "4  woman  secondary school graduate"
      ]
     },
     "execution_count": 18,
     "metadata": {},
     "output_type": "execute_result"
    }
   ],
   "source": [
    "df_5 = df[['gender', 'education']]\n",
    "df_5.head()"
   ]
  },
  {
   "cell_type": "code",
   "execution_count": 19,
   "metadata": {},
   "outputs": [],
   "source": [
    "#Change values of columns gender and education\n",
    "df['gender']=df['gender'].replace({1:'woman',2:'man'})\n",
    "df['education']=df['education'].replace({1:'primary school',2:'secondary school graduate',3:'bachelor level', 4:'master level'})"
   ]
  },
  {
   "cell_type": "code",
   "execution_count": 20,
   "metadata": {},
   "outputs": [],
   "source": [
    "#set ordinal order for education levels\n",
    "ordinal_order = ['primary school', 'secondary school graduate','bachelor level', 'master level']\n",
    "df['education'] = df['education'].astype(pd.CategoricalDtype(categories=ordinal_order, ordered=True))"
   ]
  },
  {
   "cell_type": "code",
   "execution_count": 21,
   "metadata": {},
   "outputs": [
    {
     "data": {
      "text/html": [
       "<div>\n",
       "<style scoped>\n",
       "    .dataframe tbody tr th:only-of-type {\n",
       "        vertical-align: middle;\n",
       "    }\n",
       "\n",
       "    .dataframe tbody tr th {\n",
       "        vertical-align: top;\n",
       "    }\n",
       "\n",
       "    .dataframe thead th {\n",
       "        text-align: right;\n",
       "    }\n",
       "</style>\n",
       "<table border=\"1\" class=\"dataframe\">\n",
       "  <thead>\n",
       "    <tr style=\"text-align: right;\">\n",
       "      <th>gender</th>\n",
       "      <th>man</th>\n",
       "      <th>woman</th>\n",
       "    </tr>\n",
       "    <tr>\n",
       "      <th>education</th>\n",
       "      <th></th>\n",
       "      <th></th>\n",
       "    </tr>\n",
       "  </thead>\n",
       "  <tbody>\n",
       "    <tr>\n",
       "      <th>primary school</th>\n",
       "      <td>26.315789</td>\n",
       "      <td>35.483871</td>\n",
       "    </tr>\n",
       "    <tr>\n",
       "      <th>secondary school graduate</th>\n",
       "      <td>36.842105</td>\n",
       "      <td>37.096774</td>\n",
       "    </tr>\n",
       "    <tr>\n",
       "      <th>bachelor level</th>\n",
       "      <td>36.842105</td>\n",
       "      <td>24.193548</td>\n",
       "    </tr>\n",
       "    <tr>\n",
       "      <th>master level</th>\n",
       "      <td>0.000000</td>\n",
       "      <td>3.225806</td>\n",
       "    </tr>\n",
       "  </tbody>\n",
       "</table>\n",
       "</div>"
      ],
      "text/plain": [
       "gender                           man      woman\n",
       "education                                      \n",
       "primary school             26.315789  35.483871\n",
       "secondary school graduate  36.842105  37.096774\n",
       "bachelor level             36.842105  24.193548\n",
       "master level                0.000000   3.225806"
      ]
     },
     "execution_count": 21,
     "metadata": {},
     "output_type": "execute_result"
    }
   ],
   "source": [
    "df_5_1 = pd.crosstab(df['education'], df['gender'], normalize='columns') * 100\n",
    "df_5_1"
   ]
  },
  {
   "cell_type": "code",
   "execution_count": 22,
   "metadata": {},
   "outputs": [
    {
     "data": {
      "text/html": [
       "<div>\n",
       "<style scoped>\n",
       "    .dataframe tbody tr th:only-of-type {\n",
       "        vertical-align: middle;\n",
       "    }\n",
       "\n",
       "    .dataframe tbody tr th {\n",
       "        vertical-align: top;\n",
       "    }\n",
       "\n",
       "    .dataframe thead th {\n",
       "        text-align: right;\n",
       "    }\n",
       "</style>\n",
       "<table border=\"1\" class=\"dataframe\">\n",
       "  <thead>\n",
       "    <tr style=\"text-align: right;\">\n",
       "      <th>gender</th>\n",
       "      <th>education</th>\n",
       "      <th>man</th>\n",
       "      <th>woman</th>\n",
       "    </tr>\n",
       "  </thead>\n",
       "  <tbody>\n",
       "    <tr>\n",
       "      <th>0</th>\n",
       "      <td>primary school</td>\n",
       "      <td>26.315789</td>\n",
       "      <td>35.483871</td>\n",
       "    </tr>\n",
       "    <tr>\n",
       "      <th>1</th>\n",
       "      <td>secondary school graduate</td>\n",
       "      <td>36.842105</td>\n",
       "      <td>37.096774</td>\n",
       "    </tr>\n",
       "    <tr>\n",
       "      <th>2</th>\n",
       "      <td>bachelor level</td>\n",
       "      <td>36.842105</td>\n",
       "      <td>24.193548</td>\n",
       "    </tr>\n",
       "    <tr>\n",
       "      <th>3</th>\n",
       "      <td>master level</td>\n",
       "      <td>0.000000</td>\n",
       "      <td>3.225806</td>\n",
       "    </tr>\n",
       "  </tbody>\n",
       "</table>\n",
       "</div>"
      ],
      "text/plain": [
       "gender                  education        man      woman\n",
       "0                  primary school  26.315789  35.483871\n",
       "1       secondary school graduate  36.842105  37.096774\n",
       "2                  bachelor level  36.842105  24.193548\n",
       "3                    master level   0.000000   3.225806"
      ]
     },
     "execution_count": 22,
     "metadata": {},
     "output_type": "execute_result"
    }
   ],
   "source": [
    "#change values of crosstab to a dataframe to visualize\n",
    "df_5_2 = df_5_1.reset_index()\n",
    "df_5_2"
   ]
  },
  {
   "cell_type": "code",
   "execution_count": 23,
   "metadata": {},
   "outputs": [
    {
     "data": {
      "image/png": "[encoded data removed]",
      "text/plain": [
       "<Figure size 640x480 with 1 Axes>"
      ]
     },
     "metadata": {},
     "output_type": "display_data"
    }
   ],
   "source": [
    "# Plotting\n",
    "bar_width = 0.35\n",
    "index = np.arange(len(df_5_2['education']))\n",
    "\n",
    "fig, ax = plt.subplots()\n",
    "\n",
    "# Creating bars for 'man' and 'woman'\n",
    "bars1 = ax.bar(index, df_5_2['man'], bar_width, label='Man')\n",
    "bars2 = ax.bar(index + bar_width, df_5_2['woman'], bar_width, label='Woman')\n",
    "\n",
    "# Adding labels, title, and formatting\n",
    "ax.set_xlabel('Education Level')\n",
    "ax.set_ylabel('Percentage')\n",
    "ax.set_title('Gender Distribution by Education Level')\n",
    "ax.set_xticks(index + bar_width / 2)\n",
    "ax.set_xticklabels(df_5_2['education'], rotation=30, ha='right')\n",
    "ax.legend()\n",
    "\n",
    "# Show plot\n",
    "plt.tight_layout()\n",
    "plt.show()"
   ]
  }
 ],
 "metadata": {
  "kernelspec": {
   "display_name": "base",
   "language": "python",
   "name": "python3"
  },
  "language_info": {
   "codemirror_mode": {
    "name": "ipython",
    "version": 3
   },
   "file_extension": ".py",
   "mimetype": "text/x-python",
   "name": "python",
   "nbconvert_exporter": "python",
   "pygments_lexer": "ipython3",
   "version": "3.12.4"
  }
 },
 "nbformat": 4,
 "nbformat_minor": 2
}
