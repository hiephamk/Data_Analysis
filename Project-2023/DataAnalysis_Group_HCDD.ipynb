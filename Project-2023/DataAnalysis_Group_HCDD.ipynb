{
  "nbformat": 4,
  "nbformat_minor": 0,
  "metadata": {
    "colab": {
      "provenance": [],
      "authorship_tag": "ABX9TyPEAI3QSJ2kno/+SSNRe2nN",
      "include_colab_link": true
    },
    "kernelspec": {
      "name": "python3",
      "display_name": "Python 3"
    },
    "language_info": {
      "name": "python"
    }
  },
  "cells": [
    {
      "cell_type": "markdown",
      "metadata": {
        "id": "view-in-github",
        "colab_type": "text"
      },
      "source": [
        "<a href=\"https://colab.research.google.com/github/hiephamk/Data_Analysis/blob/main/DataAnalysis_Group_HCDD.ipynb\" target=\"_parent\"><img src=\"https://colab.research.google.com/assets/colab-badge.svg\" alt=\"Open In Colab\"/></a>"
      ]
    },
    {
      "cell_type": "code",
      "execution_count": null,
      "metadata": {
        "id": "owIeI3Nj7CTi"
      },
      "outputs": [],
      "source": [
        "import pandas as pd\n",
        "from google.colab import data_table\n",
        "url = 'https://raw.githubusercontent.com/hiephamk/Data_Analysis/main/ds_salaries.csv'\n",
        "salary = pd.read_csv(url,sep = ',')\n",
        "salary.head(10)"
      ]
    },
    {
      "cell_type": "code",
      "source": [
        "print(\"dikfjdk\")"
      ],
      "metadata": {
        "id": "e9LIQ1fo8HEd"
      },
      "execution_count": null,
      "outputs": []
    }
  ]
}